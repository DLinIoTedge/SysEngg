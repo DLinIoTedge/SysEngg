{
 "cells": [
  {
   "cell_type": "code",
   "execution_count": 1,
   "id": "a478b190-0c05-4d46-b24b-90cbac8772bc",
   "metadata": {},
   "outputs": [
    {
     "name": "stdout",
     "output_type": "stream",
     "text": [
      "Defaulting to user installation because normal site-packages is not writeable\n",
      "Requirement already satisfied: mpld3 in /home/jk/.local/lib/python3.10/site-packages (0.5.10)\n",
      "Requirement already satisfied: jinja2 in /home/jk/.local/lib/python3.10/site-packages (from mpld3) (3.1.2)\n",
      "Requirement already satisfied: matplotlib in /home/jk/.local/lib/python3.10/site-packages (from mpld3) (3.7.1)\n",
      "Requirement already satisfied: MarkupSafe>=2.0 in /home/jk/.local/lib/python3.10/site-packages (from jinja2->mpld3) (2.1.3)\n",
      "Requirement already satisfied: contourpy>=1.0.1 in /home/jk/.local/lib/python3.10/site-packages (from matplotlib->mpld3) (1.0.7)\n",
      "Requirement already satisfied: cycler>=0.10 in /home/jk/.local/lib/python3.10/site-packages (from matplotlib->mpld3) (0.11.0)\n",
      "Requirement already satisfied: fonttools>=4.22.0 in /home/jk/.local/lib/python3.10/site-packages (from matplotlib->mpld3) (4.39.4)\n",
      "Requirement already satisfied: kiwisolver>=1.0.1 in /home/jk/.local/lib/python3.10/site-packages (from matplotlib->mpld3) (1.4.4)\n",
      "Requirement already satisfied: numpy>=1.20 in /home/jk/.local/lib/python3.10/site-packages (from matplotlib->mpld3) (1.26.3)\n",
      "Requirement already satisfied: packaging>=20.0 in /home/jk/.local/lib/python3.10/site-packages (from matplotlib->mpld3) (23.1)\n",
      "Requirement already satisfied: pillow>=6.2.0 in /home/jk/.local/lib/python3.10/site-packages (from matplotlib->mpld3) (9.5.0)\n",
      "Requirement already satisfied: pyparsing>=2.3.1 in /usr/lib/python3/dist-packages (from matplotlib->mpld3) (2.4.7)\n",
      "Requirement already satisfied: python-dateutil>=2.7 in /home/jk/.local/lib/python3.10/site-packages (from matplotlib->mpld3) (2.8.2)\n",
      "Requirement already satisfied: six>=1.5 in /usr/lib/python3/dist-packages (from python-dateutil>=2.7->matplotlib->mpld3) (1.16.0)\n",
      "\u001b[33mDEPRECATION: distro-info 1.1build1 has a non-standard version number. pip 23.3 will enforce this behaviour change. A possible replacement is to upgrade to a newer version of distro-info or contact the author to suggest that they release a version with a conforming version number. Discussion can be found at https://github.com/pypa/pip/issues/12063\u001b[0m\u001b[33m\n",
      "\u001b[0m\u001b[33mDEPRECATION: python-debian 0.1.43ubuntu1 has a non-standard version number. pip 23.3 will enforce this behaviour change. A possible replacement is to upgrade to a newer version of python-debian or contact the author to suggest that they release a version with a conforming version number. Discussion can be found at https://github.com/pypa/pip/issues/12063\u001b[0m\u001b[33m\n",
      "\u001b[0m\n",
      "\u001b[1m[\u001b[0m\u001b[34;49mnotice\u001b[0m\u001b[1;39;49m]\u001b[0m\u001b[39;49m A new release of pip is available: \u001b[0m\u001b[31;49m23.2.1\u001b[0m\u001b[39;49m -> \u001b[0m\u001b[32;49m23.3.2\u001b[0m\n",
      "\u001b[1m[\u001b[0m\u001b[34;49mnotice\u001b[0m\u001b[1;39;49m]\u001b[0m\u001b[39;49m To update, run: \u001b[0m\u001b[32;49mpython -m pip install --upgrade pip\u001b[0m\n"
     ]
    }
   ],
   "source": [
    "!pip install mpld3"
   ]
  },
  {
   "cell_type": "code",
   "execution_count": 2,
   "id": "d2f45693-0628-4bdc-8ead-4f1d98f61e1f",
   "metadata": {},
   "outputs": [],
   "source": [
    "import matplotlib.pyplot as plt\n",
    "from matplotlib.patches import Rectangle\n",
    "from matplotlib.patches import ConnectionPatch\n",
    "import mpld3"
   ]
  },
  {
   "cell_type": "code",
   "execution_count": 3,
   "id": "5fba5c46-7103-40ef-99ee-49d9bc3e567a",
   "metadata": {},
   "outputs": [],
   "source": [
    "\n",
    "# Function to draw a user terminal\n",
    "def draw_user_terminal(ax, x, y, size=0.5):\n",
    "    user_terminal = plt.Circle((x, y), size, color='green', label='User Terminal')\n",
    "    ax.add_patch(user_terminal)\n",
    "\n",
    "# Function to draw a satellite hub at a ground station\n",
    "def draw_satellite_hub(ax, x, y, size=0.8):\n",
    "    satellite_hub = plt.Circle((x, y), size, color='red', label='Satellite Hub')\n",
    "    ax.add_patch(satellite_hub)\n",
    "\n",
    "# Function to connect two points with a line\n",
    "def draw_connection(ax, from_point, to_point, color='black'):\n",
    "    x1, y1 = from_point\n",
    "    x2, y2 = to_point\n",
    "    line = ConnectionPatch((x1, y1), (x2, y2), 'data', 'data', arrowstyle='->', color='gray', linewidth=0.6)\n",
    "    ax.add_patch(line)\n",
    "\n",
    "def draw_satellite(ax, x, y, size=1):\n",
    "    # Draw the main body of the satellite\n",
    "\n",
    "    satellite_body = plt.Circle((x, y), 0.3, color='#345512', label='Satellite Body')\n",
    "\n",
    "    # Draw tilted solar panels using rectangles\n",
    "    panel_length = size * 3\n",
    "    panel_height = size / 3\n",
    "    panel_angle = 20  # Angle of tilt in degrees\n",
    "\n",
    "    # Calculate the position of the rectangle\n",
    "    rect_x = x - panel_length / 2\n",
    "    rect_y = y - size\n",
    "\n",
    "    # Draw the tilted solar panel\n",
    "    panel = Rectangle((rect_x, rect_y+0.5), panel_length, panel_height, angle=panel_angle, edgecolor='gray', facecolor='gray')\n",
    "\n",
    "    # Draw antenna using a line\n",
    "    antenna_length = 0.3\n",
    "    ax.plot([x, x+0.01], [y, y + antenna_length], color='#740095', linestyle='-', linewidth=6)\n",
    "\n",
    "    # Add all components to the plot\n",
    "    ax.add_patch(satellite_body)\n",
    "    ax.add_patch(panel)\n",
    "\n"
   ]
  },
  {
   "cell_type": "code",
   "execution_count": 4,
   "id": "288ec330-2378-4e55-b1d0-e35e1e62c3a2",
   "metadata": {},
   "outputs": [
    {
     "data": {
      "image/png": "[encoded data removed]",
      "text/plain": [
       "<Figure size 640x480 with 1 Axes>"
      ]
     },
     "metadata": {},
     "output_type": "display_data"
    }
   ],
   "source": [
    "\n",
    "# Set up the plot\n",
    "fig, ax = plt.subplots()\n",
    "ax.set_aspect('equal', adjustable='datalim')\n",
    "ax.set_xlim(-15, 5)\n",
    "ax.set_ylim(-15, 5)\n",
    "\n",
    "# Draw the modified satellite\n",
    "draw_satellite(ax, 0, 0)\n",
    "\n",
    "draw_user_terminal(ax, -11, -10)\n",
    "draw_satellite_hub(ax, 0.5, -10)\n",
    "\n",
    "# Draw connections\n",
    "draw_connection(ax, (0, 0), (-11, -10))\n",
    "draw_connection(ax, (0, 0), (0.5, -10))\n",
    "\n",
    "ax.text(-10.9, -11,'user terminal ', fontsize=10)\n",
    "ax.text(0, -11.4,'Satellite hub ', fontsize=10)\n",
    "\n",
    "# Set labels\n",
    "#ax.set_xlabel('X-axis')\n",
    "#ax.set_ylabel('Y-axis')\n",
    "ax.set_title('PDSCH : Satellite Communication System')\n",
    "plt.xticks([])\n",
    "plt.yticks([])\n",
    "\n",
    "# Add legend\n",
    "#ax.legend()\n",
    "\n",
    "# Export the Matplotlib figure to an HTML file\n",
    "mpld3.save_html(fig, 'satellite2.html')"
   ]
  },
  {
   "cell_type": "code",
   "execution_count": null,
   "id": "4cae10e4-8f96-46c8-ad34-8a0a07948020",
   "metadata": {},
   "outputs": [],
   "source": []
  },
  {
   "cell_type": "code",
   "execution_count": null,
   "id": "775788fa-b8ce-4cab-b252-f2e73b0bc015",
   "metadata": {},
   "outputs": [],
   "source": []
  }
 ],
 "metadata": {
  "kernelspec": {
   "display_name": "Python 3 (ipykernel)",
   "language": "python",
   "name": "python3"
  },
  "language_info": {
   "codemirror_mode": {
    "name": "ipython",
    "version": 3
   },
   "file_extension": ".py",
   "mimetype": "text/x-python",
   "name": "python",
   "nbconvert_exporter": "python",
   "pygments_lexer": "ipython3",
   "version": "3.10.12"
  }
 },
 "nbformat": 4,
 "nbformat_minor": 5
}
